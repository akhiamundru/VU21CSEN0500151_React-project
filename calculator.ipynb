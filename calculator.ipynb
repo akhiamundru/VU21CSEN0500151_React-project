{
  "nbformat": 4,
  "nbformat_minor": 0,
  "metadata": {
    "colab": {
      "provenance": []
    },
    "kernelspec": {
      "name": "python3",
      "display_name": "Python 3"
    },
    "language_info": {
      "name": "python"
    }
  },
  "cells": [
    {
      "cell_type": "code",
      "execution_count": 1,
      "metadata": {
        "colab": {
          "base_uri": "https://localhost:8080/"
        },
        "id": "xMx3DzQuck0s",
        "outputId": "68a519a7-44da-4f2a-a0bc-84e63eb4e127"
      },
      "outputs": [
        {
          "output_type": "stream",
          "name": "stdout",
          "text": [
            "Collecting fastapi\n",
            "  Downloading fastapi-0.112.2-py3-none-any.whl.metadata (27 kB)\n",
            "Collecting uvicorn\n",
            "  Downloading uvicorn-0.30.6-py3-none-any.whl.metadata (6.6 kB)\n",
            "Requirement already satisfied: requests in /usr/local/lib/python3.10/dist-packages (2.32.3)\n",
            "Collecting starlette<0.39.0,>=0.37.2 (from fastapi)\n",
            "  Downloading starlette-0.38.2-py3-none-any.whl.metadata (5.9 kB)\n",
            "Requirement already satisfied: pydantic!=1.8,!=1.8.1,!=2.0.0,!=2.0.1,!=2.1.0,<3.0.0,>=1.7.4 in /usr/local/lib/python3.10/dist-packages (from fastapi) (2.8.2)\n",
            "Requirement already satisfied: typing-extensions>=4.8.0 in /usr/local/lib/python3.10/dist-packages (from fastapi) (4.12.2)\n",
            "Requirement already satisfied: click>=7.0 in /usr/local/lib/python3.10/dist-packages (from uvicorn) (8.1.7)\n",
            "Collecting h11>=0.8 (from uvicorn)\n",
            "  Downloading h11-0.14.0-py3-none-any.whl.metadata (8.2 kB)\n",
            "Requirement already satisfied: charset-normalizer<4,>=2 in /usr/local/lib/python3.10/dist-packages (from requests) (3.3.2)\n",
            "Requirement already satisfied: idna<4,>=2.5 in /usr/local/lib/python3.10/dist-packages (from requests) (3.7)\n",
            "Requirement already satisfied: urllib3<3,>=1.21.1 in /usr/local/lib/python3.10/dist-packages (from requests) (2.0.7)\n",
            "Requirement already satisfied: certifi>=2017.4.17 in /usr/local/lib/python3.10/dist-packages (from requests) (2024.7.4)\n",
            "Requirement already satisfied: annotated-types>=0.4.0 in /usr/local/lib/python3.10/dist-packages (from pydantic!=1.8,!=1.8.1,!=2.0.0,!=2.0.1,!=2.1.0,<3.0.0,>=1.7.4->fastapi) (0.7.0)\n",
            "Requirement already satisfied: pydantic-core==2.20.1 in /usr/local/lib/python3.10/dist-packages (from pydantic!=1.8,!=1.8.1,!=2.0.0,!=2.0.1,!=2.1.0,<3.0.0,>=1.7.4->fastapi) (2.20.1)\n",
            "Requirement already satisfied: anyio<5,>=3.4.0 in /usr/local/lib/python3.10/dist-packages (from starlette<0.39.0,>=0.37.2->fastapi) (3.7.1)\n",
            "Requirement already satisfied: sniffio>=1.1 in /usr/local/lib/python3.10/dist-packages (from anyio<5,>=3.4.0->starlette<0.39.0,>=0.37.2->fastapi) (1.3.1)\n",
            "Requirement already satisfied: exceptiongroup in /usr/local/lib/python3.10/dist-packages (from anyio<5,>=3.4.0->starlette<0.39.0,>=0.37.2->fastapi) (1.2.2)\n",
            "Downloading fastapi-0.112.2-py3-none-any.whl (93 kB)\n",
            "\u001b[2K   \u001b[90m━━━━━━━━━━━━━━━━━━━━━━━━━━━━━━━━━━━━━━━━\u001b[0m \u001b[32m93.5/93.5 kB\u001b[0m \u001b[31m5.6 MB/s\u001b[0m eta \u001b[36m0:00:00\u001b[0m\n",
            "\u001b[?25hDownloading uvicorn-0.30.6-py3-none-any.whl (62 kB)\n",
            "\u001b[2K   \u001b[90m━━━━━━━━━━━━━━━━━━━━━━━━━━━━━━━━━━━━━━━━\u001b[0m \u001b[32m62.8/62.8 kB\u001b[0m \u001b[31m4.0 MB/s\u001b[0m eta \u001b[36m0:00:00\u001b[0m\n",
            "\u001b[?25hDownloading h11-0.14.0-py3-none-any.whl (58 kB)\n",
            "\u001b[2K   \u001b[90m━━━━━━━━━━━━━━━━━━━━━━━━━━━━━━━━━━━━━━━━\u001b[0m \u001b[32m58.3/58.3 kB\u001b[0m \u001b[31m2.0 MB/s\u001b[0m eta \u001b[36m0:00:00\u001b[0m\n",
            "\u001b[?25hDownloading starlette-0.38.2-py3-none-any.whl (72 kB)\n",
            "\u001b[2K   \u001b[90m━━━━━━━━━━━━━━━━━━━━━━━━━━━━━━━━━━━━━━━━\u001b[0m \u001b[32m72.0/72.0 kB\u001b[0m \u001b[31m3.9 MB/s\u001b[0m eta \u001b[36m0:00:00\u001b[0m\n",
            "\u001b[?25hInstalling collected packages: h11, uvicorn, starlette, fastapi\n",
            "Successfully installed fastapi-0.112.2 h11-0.14.0 starlette-0.38.2 uvicorn-0.30.6\n"
          ]
        }
      ],
      "source": [
        "pip install fastapi uvicorn requests\n"
      ]
    },
    {
      "cell_type": "code",
      "source": [
        "from fastapi import FastAPI, HTTPException\n",
        "import requests\n",
        "from typing import List, Dict\n",
        "import uvicorn\n",
        "import nest_asyncio\n",
        "\n",
        "# Apply the nest_asyncio patch to allow running in a notebook\n",
        "nest_asyncio.apply()\n",
        "\n",
        "app = FastAPI()\n",
        "\n",
        "# Configuration\n",
        "WINDOW_SIZE = 10\n",
        "TIMEOUT = 0.5  # 500 ms timeout for external requests\n",
        "window = []  # Window to store numbers\n",
        "\n",
        "# URLs for the third-party test server APIs\n",
        "API_URLS = {\n",
        "    'p': \"http://20.244.56.144/test/primes\",\n",
        "    'f': \"http://20.244.56.144/test/fibo\",\n",
        "    'e': \"http://20.244.56.144/test/even\",\n",
        "    'r': \"http://20.244.56.144/test/rand\"\n",
        "}\n",
        "\n",
        "def fetch_numbers_from_api(url: str) -> List[int]:\n",
        "    \"\"\"\n",
        "    Fetch numbers from the test server API with a timeout.\n",
        "    \"\"\"\n",
        "    try:\n",
        "        response = requests.get(url, timeout=TIMEOUT)\n",
        "        response.raise_for_status()\n",
        "        return response.json().get(\"numbers\", [])\n",
        "    except (requests.exceptions.Timeout, requests.exceptions.RequestException):\n",
        "        return []\n",
        "\n",
        "@app.get(\"/numbers/{numberid}\")\n",
        "async def get_numbers(numberid: str) -> Dict:\n",
        "    \"\"\"\n",
        "    Fetch numbers based on numberid, maintain a sliding window, and calculate the average.\n",
        "    \"\"\"\n",
        "    if numberid not in API_URLS:\n",
        "        raise HTTPException(status_code=400, detail=\"Invalid number ID\")\n",
        "\n",
        "    # Record the previous state of the window\n",
        "    window_prev_state = list(window)\n",
        "\n",
        "    # Fetch numbers from the appropriate test server API\n",
        "    numbers = fetch_numbers_from_api(API_URLS[numberid])\n",
        "\n",
        "    # Filter out duplicate numbers\n",
        "    unique_numbers = [num for num in numbers if num not in window]\n",
        "\n",
        "    # Add unique numbers to the window, maintaining the window size\n",
        "    for num in unique_numbers:\n",
        "        if len(window) < WINDOW_SIZE:\n",
        "            window.append(num)\n",
        "        else:\n",
        "            window.pop(0)  # Remove the oldest number to maintain window size\n",
        "            window.append(num)\n",
        "\n",
        "    # Calculate the average of the numbers in the window\n",
        "    if window:\n",
        "        avg = sum(window) / len(window)\n",
        "    else:\n",
        "        avg = 0.0\n",
        "\n",
        "    # Prepare the response\n",
        "    response = {\n",
        "        \"windowPrevState\": window_prev_state,\n",
        "        \"windowCurrState\": list(window),\n",
        "        \"numbers\": numbers,\n",
        "        \"avg\": round(avg, 2)\n",
        "    }\n",
        "\n",
        "    return response\n",
        "\n",
        "if __name__ == \"__main__\":\n",
        "    uvicorn.run(app, host=\"0.0.0.0\", port=9876)\n"
      ],
      "metadata": {
        "colab": {
          "base_uri": "https://localhost:8080/"
        },
        "id": "wGeFSSfHc_lJ",
        "outputId": "36666e36-ff3d-4433-cc52-2c7c9a0ca466"
      },
      "execution_count": 3,
      "outputs": [
        {
          "output_type": "stream",
          "name": "stderr",
          "text": [
            "INFO:     Started server process [3235]\n",
            "INFO:     Waiting for application startup.\n",
            "INFO:     Application startup complete.\n",
            "INFO:     Uvicorn running on http://0.0.0.0:9876 (Press CTRL+C to quit)\n",
            "INFO:     Shutting down\n",
            "INFO:     Waiting for application shutdown.\n",
            "INFO:     Application shutdown complete.\n",
            "INFO:     Finished server process [3235]\n"
          ]
        }
      ]
    }
  ]
}